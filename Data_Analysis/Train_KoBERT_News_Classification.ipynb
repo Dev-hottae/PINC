{
  "nbformat": 4,
  "nbformat_minor": 0,
  "metadata": {
    "colab": {
      "name": "Train_KoBERT_News_Classification.ipynb",
      "provenance": [],
      "collapsed_sections": [],
      "include_colab_link": true
    },
    "kernelspec": {
      "name": "python_defaultSpec_1601028571420",
      "display_name": "Python 3.7.7 64-bit ('base': conda)",
      "metadata": {
        "interpreter": {
          "hash": "31f2aee4e71d21fbe5cf8b01ff0e069b9275f58929596ceb00d14d90e3e16cd6"
        }
      }
    },
    "accelerator": "GPU",
    "widgets": {
      "application/vnd.jupyter.widget-state+json": {
        "deed31dae31a482284b3c24e5b6afbde": {
          "model_module": "@jupyter-widgets/controls",
          "model_name": "HBoxModel",
          "state": {
            "_view_name": "HBoxView",
            "_dom_classes": [],
            "_model_name": "HBoxModel",
            "_view_module": "@jupyter-widgets/controls",
            "_model_module_version": "1.5.0",
            "_view_count": null,
            "_view_module_version": "1.5.0",
            "box_style": "",
            "layout": "IPY_MODEL_10be4ccc5ecc4683bc9a234e2462de15",
            "_model_module": "@jupyter-widgets/controls",
            "children": [
              "IPY_MODEL_65cba04ec6634a9885f517b7e45d4b3f",
              "IPY_MODEL_bcc3101e4cae4dde839b745770c9077f"
            ]
          }
        },
        "10be4ccc5ecc4683bc9a234e2462de15": {
          "model_module": "@jupyter-widgets/base",
          "model_name": "LayoutModel",
          "state": {
            "_view_name": "LayoutView",
            "grid_template_rows": null,
            "right": null,
            "justify_content": null,
            "_view_module": "@jupyter-widgets/base",
            "overflow": null,
            "_model_module_version": "1.2.0",
            "_view_count": null,
            "flex_flow": null,
            "width": null,
            "min_width": null,
            "border": null,
            "align_items": null,
            "bottom": null,
            "_model_module": "@jupyter-widgets/base",
            "top": null,
            "grid_column": null,
            "overflow_y": null,
            "overflow_x": null,
            "grid_auto_flow": null,
            "grid_area": null,
            "grid_template_columns": null,
            "flex": null,
            "_model_name": "LayoutModel",
            "justify_items": null,
            "grid_row": null,
            "max_height": null,
            "align_content": null,
            "visibility": null,
            "align_self": null,
            "height": null,
            "min_height": null,
            "padding": null,
            "grid_auto_rows": null,
            "grid_gap": null,
            "max_width": null,
            "order": null,
            "_view_module_version": "1.2.0",
            "grid_template_areas": null,
            "object_position": null,
            "object_fit": null,
            "grid_auto_columns": null,
            "margin": null,
            "display": null,
            "left": null
          }
        },
        "65cba04ec6634a9885f517b7e45d4b3f": {
          "model_module": "@jupyter-widgets/controls",
          "model_name": "FloatProgressModel",
          "state": {
            "_view_name": "ProgressView",
            "style": "IPY_MODEL_3d3dd7afda294971849332c2389caabb",
            "_dom_classes": [],
            "description": "100%",
            "_model_name": "FloatProgressModel",
            "bar_style": "success",
            "max": 145,
            "_view_module": "@jupyter-widgets/controls",
            "_model_module_version": "1.5.0",
            "value": 145,
            "_view_count": null,
            "_view_module_version": "1.5.0",
            "orientation": "horizontal",
            "min": 0,
            "description_tooltip": null,
            "_model_module": "@jupyter-widgets/controls",
            "layout": "IPY_MODEL_1fc5ba2867044e7abe4abfc182006268"
          }
        },
        "bcc3101e4cae4dde839b745770c9077f": {
          "model_module": "@jupyter-widgets/controls",
          "model_name": "HTMLModel",
          "state": {
            "_view_name": "HTMLView",
            "style": "IPY_MODEL_6033a380d1b24836806daf0a31710735",
            "_dom_classes": [],
            "description": "",
            "_model_name": "HTMLModel",
            "placeholder": "​",
            "_view_module": "@jupyter-widgets/controls",
            "_model_module_version": "1.5.0",
            "value": " 145/145 [01:45&lt;00:00,  1.37it/s]",
            "_view_count": null,
            "_view_module_version": "1.5.0",
            "description_tooltip": null,
            "_model_module": "@jupyter-widgets/controls",
            "layout": "IPY_MODEL_8ddd135ca04e4cd1b472303ca6baf84e"
          }
        },
        "3d3dd7afda294971849332c2389caabb": {
          "model_module": "@jupyter-widgets/controls",
          "model_name": "ProgressStyleModel",
          "state": {
            "_view_name": "StyleView",
            "_model_name": "ProgressStyleModel",
            "description_width": "initial",
            "_view_module": "@jupyter-widgets/base",
            "_model_module_version": "1.5.0",
            "_view_count": null,
            "_view_module_version": "1.2.0",
            "bar_color": null,
            "_model_module": "@jupyter-widgets/controls"
          }
        },
        "1fc5ba2867044e7abe4abfc182006268": {
          "model_module": "@jupyter-widgets/base",
          "model_name": "LayoutModel",
          "state": {
            "_view_name": "LayoutView",
            "grid_template_rows": null,
            "right": null,
            "justify_content": null,
            "_view_module": "@jupyter-widgets/base",
            "overflow": null,
            "_model_module_version": "1.2.0",
            "_view_count": null,
            "flex_flow": null,
            "width": null,
            "min_width": null,
            "border": null,
            "align_items": null,
            "bottom": null,
            "_model_module": "@jupyter-widgets/base",
            "top": null,
            "grid_column": null,
            "overflow_y": null,
            "overflow_x": null,
            "grid_auto_flow": null,
            "grid_area": null,
            "grid_template_columns": null,
            "flex": null,
            "_model_name": "LayoutModel",
            "justify_items": null,
            "grid_row": null,
            "max_height": null,
            "align_content": null,
            "visibility": null,
            "align_self": null,
            "height": null,
            "min_height": null,
            "padding": null,
            "grid_auto_rows": null,
            "grid_gap": null,
            "max_width": null,
            "order": null,
            "_view_module_version": "1.2.0",
            "grid_template_areas": null,
            "object_position": null,
            "object_fit": null,
            "grid_auto_columns": null,
            "margin": null,
            "display": null,
            "left": null
          }
        },
        "6033a380d1b24836806daf0a31710735": {
          "model_module": "@jupyter-widgets/controls",
          "model_name": "DescriptionStyleModel",
          "state": {
            "_view_name": "StyleView",
            "_model_name": "DescriptionStyleModel",
            "description_width": "",
            "_view_module": "@jupyter-widgets/base",
            "_model_module_version": "1.5.0",
            "_view_count": null,
            "_view_module_version": "1.2.0",
            "_model_module": "@jupyter-widgets/controls"
          }
        },
        "8ddd135ca04e4cd1b472303ca6baf84e": {
          "model_module": "@jupyter-widgets/base",
          "model_name": "LayoutModel",
          "state": {
            "_view_name": "LayoutView",
            "grid_template_rows": null,
            "right": null,
            "justify_content": null,
            "_view_module": "@jupyter-widgets/base",
            "overflow": null,
            "_model_module_version": "1.2.0",
            "_view_count": null,
            "flex_flow": null,
            "width": null,
            "min_width": null,
            "border": null,
            "align_items": null,
            "bottom": null,
            "_model_module": "@jupyter-widgets/base",
            "top": null,
            "grid_column": null,
            "overflow_y": null,
            "overflow_x": null,
            "grid_auto_flow": null,
            "grid_area": null,
            "grid_template_columns": null,
            "flex": null,
            "_model_name": "LayoutModel",
            "justify_items": null,
            "grid_row": null,
            "max_height": null,
            "align_content": null,
            "visibility": null,
            "align_self": null,
            "height": null,
            "min_height": null,
            "padding": null,
            "grid_auto_rows": null,
            "grid_gap": null,
            "max_width": null,
            "order": null,
            "_view_module_version": "1.2.0",
            "grid_template_areas": null,
            "object_position": null,
            "object_fit": null,
            "grid_auto_columns": null,
            "margin": null,
            "display": null,
            "left": null
          }
        },
        "66e28c540a2d448694b9ee70ca449d6b": {
          "model_module": "@jupyter-widgets/controls",
          "model_name": "HBoxModel",
          "state": {
            "_view_name": "HBoxView",
            "_dom_classes": [],
            "_model_name": "HBoxModel",
            "_view_module": "@jupyter-widgets/controls",
            "_model_module_version": "1.5.0",
            "_view_count": null,
            "_view_module_version": "1.5.0",
            "box_style": "",
            "layout": "IPY_MODEL_bf395a11112743b5a607938a73d7f874",
            "_model_module": "@jupyter-widgets/controls",
            "children": [
              "IPY_MODEL_69e6b9c4902f441180b1966ad69434d8",
              "IPY_MODEL_c4ce5094e0b547b290896cf0cecdd7a5"
            ]
          }
        },
        "bf395a11112743b5a607938a73d7f874": {
          "model_module": "@jupyter-widgets/base",
          "model_name": "LayoutModel",
          "state": {
            "_view_name": "LayoutView",
            "grid_template_rows": null,
            "right": null,
            "justify_content": null,
            "_view_module": "@jupyter-widgets/base",
            "overflow": null,
            "_model_module_version": "1.2.0",
            "_view_count": null,
            "flex_flow": null,
            "width": null,
            "min_width": null,
            "border": null,
            "align_items": null,
            "bottom": null,
            "_model_module": "@jupyter-widgets/base",
            "top": null,
            "grid_column": null,
            "overflow_y": null,
            "overflow_x": null,
            "grid_auto_flow": null,
            "grid_area": null,
            "grid_template_columns": null,
            "flex": null,
            "_model_name": "LayoutModel",
            "justify_items": null,
            "grid_row": null,
            "max_height": null,
            "align_content": null,
            "visibility": null,
            "align_self": null,
            "height": null,
            "min_height": null,
            "padding": null,
            "grid_auto_rows": null,
            "grid_gap": null,
            "max_width": null,
            "order": null,
            "_view_module_version": "1.2.0",
            "grid_template_areas": null,
            "object_position": null,
            "object_fit": null,
            "grid_auto_columns": null,
            "margin": null,
            "display": null,
            "left": null
          }
        },
        "69e6b9c4902f441180b1966ad69434d8": {
          "model_module": "@jupyter-widgets/controls",
          "model_name": "FloatProgressModel",
          "state": {
            "_view_name": "ProgressView",
            "style": "IPY_MODEL_b58c3035ad074eaab901861b2b469d7e",
            "_dom_classes": [],
            "description": "100%",
            "_model_name": "FloatProgressModel",
            "bar_style": "success",
            "max": 37,
            "_view_module": "@jupyter-widgets/controls",
            "_model_module_version": "1.5.0",
            "value": 37,
            "_view_count": null,
            "_view_module_version": "1.5.0",
            "orientation": "horizontal",
            "min": 0,
            "description_tooltip": null,
            "_model_module": "@jupyter-widgets/controls",
            "layout": "IPY_MODEL_3998e81c3eff41afaca0faaaa4e57934"
          }
        },
        "c4ce5094e0b547b290896cf0cecdd7a5": {
          "model_module": "@jupyter-widgets/controls",
          "model_name": "HTMLModel",
          "state": {
            "_view_name": "HTMLView",
            "style": "IPY_MODEL_35c964108ace4319b49c03f239aae7ac",
            "_dom_classes": [],
            "description": "",
            "_model_name": "HTMLModel",
            "placeholder": "​",
            "_view_module": "@jupyter-widgets/controls",
            "_model_module_version": "1.5.0",
            "value": " 37/37 [00:08&lt;00:00,  4.44it/s]",
            "_view_count": null,
            "_view_module_version": "1.5.0",
            "description_tooltip": null,
            "_model_module": "@jupyter-widgets/controls",
            "layout": "IPY_MODEL_c737112735f942c38d0d28a87f954cc5"
          }
        },
        "b58c3035ad074eaab901861b2b469d7e": {
          "model_module": "@jupyter-widgets/controls",
          "model_name": "ProgressStyleModel",
          "state": {
            "_view_name": "StyleView",
            "_model_name": "ProgressStyleModel",
            "description_width": "initial",
            "_view_module": "@jupyter-widgets/base",
            "_model_module_version": "1.5.0",
            "_view_count": null,
            "_view_module_version": "1.2.0",
            "bar_color": null,
            "_model_module": "@jupyter-widgets/controls"
          }
        },
        "3998e81c3eff41afaca0faaaa4e57934": {
          "model_module": "@jupyter-widgets/base",
          "model_name": "LayoutModel",
          "state": {
            "_view_name": "LayoutView",
            "grid_template_rows": null,
            "right": null,
            "justify_content": null,
            "_view_module": "@jupyter-widgets/base",
            "overflow": null,
            "_model_module_version": "1.2.0",
            "_view_count": null,
            "flex_flow": null,
            "width": null,
            "min_width": null,
            "border": null,
            "align_items": null,
            "bottom": null,
            "_model_module": "@jupyter-widgets/base",
            "top": null,
            "grid_column": null,
            "overflow_y": null,
            "overflow_x": null,
            "grid_auto_flow": null,
            "grid_area": null,
            "grid_template_columns": null,
            "flex": null,
            "_model_name": "LayoutModel",
            "justify_items": null,
            "grid_row": null,
            "max_height": null,
            "align_content": null,
            "visibility": null,
            "align_self": null,
            "height": null,
            "min_height": null,
            "padding": null,
            "grid_auto_rows": null,
            "grid_gap": null,
            "max_width": null,
            "order": null,
            "_view_module_version": "1.2.0",
            "grid_template_areas": null,
            "object_position": null,
            "object_fit": null,
            "grid_auto_columns": null,
            "margin": null,
            "display": null,
            "left": null
          }
        },
        "35c964108ace4319b49c03f239aae7ac": {
          "model_module": "@jupyter-widgets/controls",
          "model_name": "DescriptionStyleModel",
          "state": {
            "_view_name": "StyleView",
            "_model_name": "DescriptionStyleModel",
            "description_width": "",
            "_view_module": "@jupyter-widgets/base",
            "_model_module_version": "1.5.0",
            "_view_count": null,
            "_view_module_version": "1.2.0",
            "_model_module": "@jupyter-widgets/controls"
          }
        },
        "c737112735f942c38d0d28a87f954cc5": {
          "model_module": "@jupyter-widgets/base",
          "model_name": "LayoutModel",
          "state": {
            "_view_name": "LayoutView",
            "grid_template_rows": null,
            "right": null,
            "justify_content": null,
            "_view_module": "@jupyter-widgets/base",
            "overflow": null,
            "_model_module_version": "1.2.0",
            "_view_count": null,
            "flex_flow": null,
            "width": null,
            "min_width": null,
            "border": null,
            "align_items": null,
            "bottom": null,
            "_model_module": "@jupyter-widgets/base",
            "top": null,
            "grid_column": null,
            "overflow_y": null,
            "overflow_x": null,
            "grid_auto_flow": null,
            "grid_area": null,
            "grid_template_columns": null,
            "flex": null,
            "_model_name": "LayoutModel",
            "justify_items": null,
            "grid_row": null,
            "max_height": null,
            "align_content": null,
            "visibility": null,
            "align_self": null,
            "height": null,
            "min_height": null,
            "padding": null,
            "grid_auto_rows": null,
            "grid_gap": null,
            "max_width": null,
            "order": null,
            "_view_module_version": "1.2.0",
            "grid_template_areas": null,
            "object_position": null,
            "object_fit": null,
            "grid_auto_columns": null,
            "margin": null,
            "display": null,
            "left": null
          }
        }
      }
    }
  },
  "cells": [
    {
      "cell_type": "markdown",
      "metadata": {
        "id": "view-in-github",
        "colab_type": "text"
      },
      "source": [
        "<a href=\"https://colab.research.google.com/github/Dev-hottae/PINC/blob/master/Data_Analysis/Train_KoBERT_News_Classification.ipynb\" target=\"_parent\"><img src=\"https://colab.research.google.com/assets/colab-badge.svg\" alt=\"Open In Colab\"/></a>"
      ]
    },
    {
      "cell_type": "code",
      "metadata": {
        "id": "1cC5HbidPqbL",
        "outputId": "55efe189-5dfe-482f-ab03-c7b6b0bbe1d3",
        "colab": {
          "base_uri": "https://localhost:8080/",
          "height": 34
        }
      },
      "source": [
        "from google.colab import drive\n",
        "drive.mount('/content/drive')"
      ],
      "execution_count": 1,
      "outputs": [
        {
          "output_type": "stream",
          "text": [
            "Mounted at /content/drive\n"
          ],
          "name": "stdout"
        }
      ]
    },
    {
      "cell_type": "code",
      "metadata": {
        "id": "jstALKaeRNHs",
        "outputId": "dd8fe2f4-3065-486e-891e-a40f90d39b90",
        "colab": {
          "base_uri": "https://localhost:8080/",
          "height": 52
        }
      },
      "source": [
        "!ls drive/'My Drive'/'Colab Notebooks'/"
      ],
      "execution_count": 2,
      "outputs": [
        {
          "output_type": "stream",
          "text": [
            " __MACOSX\t  'report.ipynb의 사본의 사본'\t     requirements.txt\n",
            " NarrativeKoGPT2  'report.ipynb의 사본의 사본 (1)'   Untitled0.ipynb\n"
          ],
          "name": "stdout"
        }
      ]
    },
    {
      "cell_type": "code",
      "metadata": {
        "id": "WpZuK7wUROFO"
      },
      "source": [
        "!pip install -r drive/'My Drive'/'Colab Notebooks'/requirements.txt"
      ],
      "execution_count": null,
      "outputs": []
    },
    {
      "cell_type": "code",
      "metadata": {
        "id": "vu8NxGCMjHzT",
        "tags": []
      },
      "source": [
        "!pip install git+https://git@github.com/SKTBrain/KoBERT.git"
      ],
      "execution_count": null,
      "outputs": []
    },
    {
      "cell_type": "code",
      "metadata": {
        "id": "bxUuQ5TAjJ3h"
      },
      "source": [
        "import torch\n",
        "import torch.nn.functional as F\n",
        "import torch.optim as optim\n",
        "import gluonnlp as nlp\n",
        "import numpy as np\n",
        "import pandas as pd\n",
        "import tensorflow as tf\n",
        "from torch.utils.data import Dataset, DataLoader\n",
        "from torch import nn\n",
        "from tqdm import tqdm, tqdm_notebook"
      ],
      "execution_count": 52,
      "outputs": []
    },
    {
      "cell_type": "code",
      "metadata": {
        "id": "d6p4oarijLxr"
      },
      "source": [
        "from transformers import AdamW, BertModel, BertConfig\n",
        "from transformers.optimization import get_linear_schedule_with_warmup\n",
        "from kobert.utils import get_tokenizer, download, tokenizer\n",
        "from kobert.pytorch_kobert import get_pytorch_kobert_model"
      ],
      "execution_count": 69,
      "outputs": []
    },
    {
      "cell_type": "code",
      "metadata": {
        "id": "4py16aFMjNcS"
      },
      "source": [
        "#GPU 사용\n",
        "device = torch.device(\"cuda:0\")"
      ],
      "execution_count": 8,
      "outputs": []
    },
    {
      "cell_type": "markdown",
      "metadata": {
        "id": "kZ74Xu2EjTEa"
      },
      "source": [
        "# **SKT의 KoBERT 이용**"
      ]
    },
    {
      "cell_type": "markdown",
      "metadata": {
        "id": "7W_V4jl5qnWw"
      },
      "source": [
        "## **데이터 불러오기**"
      ]
    },
    {
      "cell_type": "code",
      "metadata": {
        "id": "a5bdScw7jOxu"
      },
      "source": [
        "data_path = '/content/drive/My Drive/머신러닝/팀 프로젝트/06. AI를 이용한 금융 보고서/Data_Analysis/DataSet/sample_label_by1.csv'"
      ],
      "execution_count": 34,
      "outputs": []
    },
    {
      "cell_type": "code",
      "metadata": {
        "id": "oDx0yPEbAJLy",
        "outputId": "a5acdb03-50e3-4c22-fcba-3d55ec7add3b",
        "colab": {
          "base_uri": "https://localhost:8080/",
          "height": 195
        }
      },
      "source": [
        "news_data = pd.read_csv(data_path, encoding='utf-8', index_col=0)\n",
        "news_data = news_data[['date', 'text', 'label']]\n",
        "news_data = news_data.reset_index()\n",
        "news_data = news_data.drop(['Unnamed: 0'], axis=1)\n",
        "news_data.head()"
      ],
      "execution_count": 98,
      "outputs": [
        {
          "output_type": "execute_result",
          "data": {
            "text/html": [
              "<div>\n",
              "<style scoped>\n",
              "    .dataframe tbody tr th:only-of-type {\n",
              "        vertical-align: middle;\n",
              "    }\n",
              "\n",
              "    .dataframe tbody tr th {\n",
              "        vertical-align: top;\n",
              "    }\n",
              "\n",
              "    .dataframe thead th {\n",
              "        text-align: right;\n",
              "    }\n",
              "</style>\n",
              "<table border=\"1\" class=\"dataframe\">\n",
              "  <thead>\n",
              "    <tr style=\"text-align: right;\">\n",
              "      <th></th>\n",
              "      <th>date</th>\n",
              "      <th>text</th>\n",
              "      <th>label</th>\n",
              "    </tr>\n",
              "  </thead>\n",
              "  <tbody>\n",
              "    <tr>\n",
              "      <th>0</th>\n",
              "      <td>2003-08-01</td>\n",
              "      <td>하이닉스 주가가 급반등했다. 1일 오후 2시23분 현재 하이닉스는 전날보다 1천1...</td>\n",
              "      <td>10</td>\n",
              "    </tr>\n",
              "    <tr>\n",
              "      <th>1</th>\n",
              "      <td>2003-08-01</td>\n",
              "      <td>거래소시장에서 종합지수가 美 경제지표의 호전에 고무된 외국인 매수로 연중 고점을 ...</td>\n",
              "      <td>10</td>\n",
              "    </tr>\n",
              "    <tr>\n",
              "      <th>2</th>\n",
              "      <td>2003-08-01</td>\n",
              "      <td>반도체주들이 강보합권에 개장했다. 1일 오전 9시5분 현재 삼성전자는 전날보다 3...</td>\n",
              "      <td>10</td>\n",
              "    </tr>\n",
              "    <tr>\n",
              "      <th>3</th>\n",
              "      <td>2003-08-01</td>\n",
              "      <td>1일 전기전자업종은 외국인 매수에 힘입어 삼성전자가 연중 고점을 경신하는 등 대부...</td>\n",
              "      <td>10</td>\n",
              "    </tr>\n",
              "    <tr>\n",
              "      <th>4</th>\n",
              "      <td>2003-08-04</td>\n",
              "      <td>반도체주들이 약세권에 개장했다. 4일 오전 9시5분 현재 삼성전자는 전날보다 5천...</td>\n",
              "      <td>1</td>\n",
              "    </tr>\n",
              "  </tbody>\n",
              "</table>\n",
              "</div>"
            ],
            "text/plain": [
              "         date                                               text  label\n",
              "0  2003-08-01   하이닉스 주가가 급반등했다. 1일 오후 2시23분 현재 하이닉스는 전날보다 1천1...     10\n",
              "1  2003-08-01   거래소시장에서 종합지수가 美 경제지표의 호전에 고무된 외국인 매수로 연중 고점을 ...     10\n",
              "2  2003-08-01   반도체주들이 강보합권에 개장했다. 1일 오전 9시5분 현재 삼성전자는 전날보다 3...     10\n",
              "3  2003-08-01   1일 전기전자업종은 외국인 매수에 힘입어 삼성전자가 연중 고점을 경신하는 등 대부...     10\n",
              "4  2003-08-04   반도체주들이 약세권에 개장했다. 4일 오전 9시5분 현재 삼성전자는 전날보다 5천...      1"
            ]
          },
          "metadata": {
            "tags": []
          },
          "execution_count": 98
        }
      ]
    },
    {
      "cell_type": "code",
      "metadata": {
        "id": "4Il2EFPSEqrm",
        "outputId": "0cc23da8-a6fc-46f2-fcd4-c2684f9c8300",
        "colab": {
          "base_uri": "https://localhost:8080/",
          "height": 195
        }
      },
      "source": [
        "news_data = news_data[news_data['label']!=10]\n",
        "news_data = news_data.reset_index()\n",
        "news_data = news_data.drop(['index'], axis=1)\n",
        "news_data.head()"
      ],
      "execution_count": 36,
      "outputs": [
        {
          "output_type": "execute_result",
          "data": {
            "text/html": [
              "<div>\n",
              "<style scoped>\n",
              "    .dataframe tbody tr th:only-of-type {\n",
              "        vertical-align: middle;\n",
              "    }\n",
              "\n",
              "    .dataframe tbody tr th {\n",
              "        vertical-align: top;\n",
              "    }\n",
              "\n",
              "    .dataframe thead th {\n",
              "        text-align: right;\n",
              "    }\n",
              "</style>\n",
              "<table border=\"1\" class=\"dataframe\">\n",
              "  <thead>\n",
              "    <tr style=\"text-align: right;\">\n",
              "      <th></th>\n",
              "      <th>date</th>\n",
              "      <th>text</th>\n",
              "      <th>label</th>\n",
              "    </tr>\n",
              "  </thead>\n",
              "  <tbody>\n",
              "    <tr>\n",
              "      <th>0</th>\n",
              "      <td>2003-08-04</td>\n",
              "      <td>반도체주들이 약세권에 개장했다. 4일 오전 9시5분 현재 삼성전자는 전날보다 5천...</td>\n",
              "      <td>1</td>\n",
              "    </tr>\n",
              "    <tr>\n",
              "      <th>1</th>\n",
              "      <td>2003-08-04</td>\n",
              "      <td>4일 전기전자업종은 주말 미국증시가 하락세를 보인 가운데 종목별로 혼조세를 보였다...</td>\n",
              "      <td>1</td>\n",
              "    </tr>\n",
              "    <tr>\n",
              "      <th>2</th>\n",
              "      <td>2003-08-06</td>\n",
              "      <td>미국시장의 고용지표 악화가 6일 오전 거래소시장에서 종합지수의 급락을 이끌고 있다...</td>\n",
              "      <td>0</td>\n",
              "    </tr>\n",
              "    <tr>\n",
              "      <th>3</th>\n",
              "      <td>2003-08-06</td>\n",
              "      <td>삼성전자가 사상최고치 돌파를 앞두고 번번이미끄러지고 있다. 6일 오전 9시45분 ...</td>\n",
              "      <td>0</td>\n",
              "    </tr>\n",
              "    <tr>\n",
              "      <th>4</th>\n",
              "      <td>2003-08-06</td>\n",
              "      <td>삼성전자 등 반도체주들이 오후장 들어 낙폭이 커졌다. 6일 오후 1시57분 현재 ...</td>\n",
              "      <td>0</td>\n",
              "    </tr>\n",
              "  </tbody>\n",
              "</table>\n",
              "</div>"
            ],
            "text/plain": [
              "         date                                               text  label\n",
              "0  2003-08-04   반도체주들이 약세권에 개장했다. 4일 오전 9시5분 현재 삼성전자는 전날보다 5천...      1\n",
              "1  2003-08-04   4일 전기전자업종은 주말 미국증시가 하락세를 보인 가운데 종목별로 혼조세를 보였다...      1\n",
              "2  2003-08-06   미국시장의 고용지표 악화가 6일 오전 거래소시장에서 종합지수의 급락을 이끌고 있다...      0\n",
              "3  2003-08-06   삼성전자가 사상최고치 돌파를 앞두고 번번이미끄러지고 있다. 6일 오전 9시45분 ...      0\n",
              "4  2003-08-06   삼성전자 등 반도체주들이 오후장 들어 낙폭이 커졌다. 6일 오후 1시57분 현재 ...      0"
            ]
          },
          "metadata": {
            "tags": []
          },
          "execution_count": 36
        }
      ]
    },
    {
      "cell_type": "code",
      "metadata": {
        "id": "7uS1UBYAAqqm",
        "outputId": "f5cb92ae-67c4-4a21-dae2-679ae09cd87c",
        "colab": {
          "base_uri": "https://localhost:8080/",
          "height": 34
        }
      },
      "source": [
        "# 학습, 테스트 데이터 분리\n",
        "train_data = news_data.sample(frac=0.8, random_state=2020)\n",
        "test_data = news_data.drop(train_data.index)\n",
        "len(train_data), len(test_data)"
      ],
      "execution_count": 37,
      "outputs": [
        {
          "output_type": "execute_result",
          "data": {
            "text/plain": [
              "(9254, 2313)"
            ]
          },
          "metadata": {
            "tags": []
          },
          "execution_count": 37
        }
      ]
    },
    {
      "cell_type": "code",
      "metadata": {
        "tags": [],
        "id": "-1kiUrtX8yYH",
        "outputId": "2c61e730-fc00-4f2a-d867-687eeca142a7",
        "colab": {
          "base_uri": "https://localhost:8080/",
          "height": 52
        }
      },
      "source": [
        "count_0 = 0\n",
        "count_1 = 0\n",
        "for i in tqdm(a):\n",
        "    if i == 0:\n",
        "        count_0 += 1\n",
        "    else:\n",
        "        count_1 += 1\n",
        "\n",
        "count_0, count_1"
      ],
      "execution_count": 39,
      "outputs": [
        {
          "output_type": "stream",
          "text": [
            "100%|██████████| 9254/9254 [00:00<00:00, 908846.07it/s]\n"
          ],
          "name": "stderr"
        },
        {
          "output_type": "execute_result",
          "data": {
            "text/plain": [
              "(4395, 4859)"
            ]
          },
          "metadata": {
            "tags": []
          },
          "execution_count": 39
        }
      ]
    },
    {
      "cell_type": "code",
      "metadata": {
        "id": "i3MQLi9-8yYL",
        "outputId": "3794923c-6c94-4249-aff9-003c00f0ec9c",
        "colab": {
          "base_uri": "https://localhost:8080/",
          "height": 34
        }
      },
      "source": [
        "count_0 / (count_0 + count_1)"
      ],
      "execution_count": 40,
      "outputs": [
        {
          "output_type": "execute_result",
          "data": {
            "text/plain": [
              "0.47492976010373894"
            ]
          },
          "metadata": {
            "tags": []
          },
          "execution_count": 40
        }
      ]
    },
    {
      "cell_type": "code",
      "metadata": {
        "id": "yJCE2RaxqYuZ",
        "outputId": "81ae250b-6898-4dcb-991a-3bc0e7639cea",
        "colab": {
          "base_uri": "https://localhost:8080/",
          "height": 34
        }
      },
      "source": [
        "train_data = train_data.dropna()\n",
        "train_data = train_data.reset_index()\n",
        "train_data = train_data.drop(['index'], axis=1)\n",
        "test_data = test_data.dropna()\n",
        "test_data = test_data.reset_index()\n",
        "test_data = test_data.drop(['index'], axis=1)\n",
        "len(train_data), len(test_data)"
      ],
      "execution_count": 41,
      "outputs": [
        {
          "output_type": "execute_result",
          "data": {
            "text/plain": [
              "(9254, 2313)"
            ]
          },
          "metadata": {
            "tags": []
          },
          "execution_count": 41
        }
      ]
    },
    {
      "cell_type": "code",
      "metadata": {
        "id": "Hpu5ZRH2qbUR",
        "tags": [],
        "outputId": "224fe230-000c-4d4d-ac4e-6f2334df288c",
        "colab": {
          "base_uri": "https://localhost:8080/",
          "height": 248
        }
      },
      "source": [
        "dataset_train = [] # 라벨은 0부터 순서대로 입력해야함\n",
        "dataset_test = []\n",
        "for i in tqdm(range(len(train_data))):\n",
        "    dataset_train.append([train_data['text'][i], int(train_data['label'][i])]) # 해당 리스트 형태를 맞춰야 학습 가능\n",
        "for i in tqdm(range(len(test_data))):\n",
        "    dataset_test.append([test_data['text'][i], int(test_data['label'][i])])\n",
        "\n",
        "dataset_test[:5]"
      ],
      "execution_count": 97,
      "outputs": [
        {
          "output_type": "stream",
          "text": [
            "100%|██████████| 9254/9254 [00:00<00:00, 73273.53it/s]\n",
            "100%|██████████| 2313/2313 [00:00<00:00, 85629.02it/s]\n"
          ],
          "name": "stderr"
        },
        {
          "output_type": "execute_result",
          "data": {
            "text/plain": [
              "[[' 외국인과 기관이 쌍끌이에 나서면서 지수가하락하루만에 오름세로 반전되면서 760선을 돌파했다. 27일 거래소시장에서 종합지수는 미국증시가 사흘만에 오름세로 반전되면서 강보합권에서 출발했다. 이번주들어 외국인의 매수강도가 주춤하고 있으나 지난주 후반 750선을 돌파한이후 이 지수대가 지지선으로 굳혀지면서 지수가 하방경직성을 보여줬다. 지수는 오전 11시 현재 1% 오른 760.56을 기록중이며 외국인이 202억원, 기관이143억원을 순매수중이다. 기관의 경우 지난주 일부 펀드의 해지에 따라 매도우위를 보였으나 이번주들어주식연계증권과 관련된 현물매수가 유입되고 있는 것으로 분석되고 있다. 업종별로 증권, 기계, 의료정밀, 통신, 은행 등의 시세탄력이 확대되고 있는 반면 섬유의복, 종이금속, 비금속 등은 약세권에 머물고 있다. 시가총액 상위종목은 삼성전자가 0.44% 내리면서 약보합권에 있으나 SK텔레콤, 국민은행, POSCO, KT, 하나은행 등은 오름세를 보이는 등 전반적으로 매수심리가 우세한 상황이다. 교보증권 이혜린연구원은 750선에서 지지력을 확인하면 하락리스크가 줄어든데다 미국증시의 반등에 심리적 안정감을 더해줬다 면서 그러나 여전히 주식형수익잔고나 고객예탁금 등 수급 측면의 부담이 지속되고 있어 해외요인에 의한 장세전개가계속될 것 이라고 전망했다. ',\n",
              "  0],\n",
              " [' 가격부담이 현실화되면서 지수가 내림세로 돌아섰다. 28일 거래소시장에서 종합지수는 개장초 외국인 매수흐름이 이어지면서 760선을상회하는 강세로 출발했으나 시간이 흐를수록 기관과 개인의 매도물량 부담으로 약세권으로 돌아섰다. 장중 한때 749.34까지 떨어졌던 지수는 외국인의 순매수규모가 1천억원대를 넘어서며 추가하락이 주춤, 결국 0.81% 내린 752.81에 거래를 마쳤다. 외국인이 오후 3시4분 현재 1천458억원을 순매수했으나 기관과 개인은 1천121억원, 314억원을 각각 순매도, 여전히 보수적 시황관을 드러냈다. 오늘 발표된 7월 산업활동 동향이 시장 기대치 수준에 미치지 못한 것으로 발표된데다 미국시장 또한 다음달 1일 노동절 휴일을 앞두고 거래량이 감소한 가운데 경제지표 호전에 별 반응을 보이지 않는 다소 무기력한 장세를 보인 것이 투자심리에부담을 주었다. 굿모닝신한증권 김학균 연구원은 나스닥 및 필라델피아반도체지수가 오름세를보였는데도 불구, 지수의 낙폭이 커졌다 면서 이는 역시 가격부담이 현실화된데 원인이 있으며 우리 뿐만 아니라 아.태 시장 전반이 숨고르기로 접어들었다는 면에서자연스런 현상 이라고 진단했다. 김연구원은 이어 그러나 오늘 전강후약의 흐름을 보이면서 5일선을 하향 이탈,오늘밤 미국시장의 흐름이 중요하게 됐다 면서 만약 다소 실망스런 흐름이 전개될경우 20일선이 위치한 730선 초반 정도까지 추가조정도 염두에 두어야할 것 이라고덧붙였다. 업종별로 종이목재, 은행, 음식료, 전기가스, 통신 등이 오름세를 보였으나 여타 대부분의 업종은 약세권에 머물렀다. 특히 의료정밀, 비금속, 증권 등은 낙폭이 상대적으로컸다. 시가총액 상위종목은 삼성전자가 1.12% 하락하면서 44만원대 아래로 내려섰으며 POSCO,LG화학, 삼성SDI 등의 낙폭이 컸다. ',\n",
              "  0],\n",
              " [' 중국의 텔레컴 시장은 세계 최대이며 가장빠른 성장세를 구가하고 있지만 과잉공급으로 인한 대폭적인 조정에 직면하고 있다고 시장조사업체인 가트너가 2일 분석했다. 가트너는 중국의 이동전화 단말기 시장이 생산 축소, 인수합병, 소형업체들의퇴출 등 대폭적인 조정이 불가피한 상황이라고 지적했다. 가트너에 따르면 중국 국내업체들은 재고 축소를 위해 단말기를 최저 300위앤의 가격에 판매하고 있는 것으로 알려졌다. 벤 우드 애널리스트는 수주분의 과잉 재고가 쌓여 있고 이를 소진하기 위해서는 수분기가 소요될 것이기 때문에 뭔가 상황이 크게 변해야 한다 고 말했다. 한편 세계 휴대전화 시장이 2.4분기에 12% 성장했으며, 후발주자인 한국 LG전자는 무려 40%가 넘는 신장률을 기록했다고 가트너가 밝혔다. 2분기 세계 휴대전화 판매량은 총 1억1천490만 대로 작년 동기에 비해 11.9% 신장했다. 업체별로는 세계 1위인 핀란드의 노키아가 17.3% 신장, 시장점유율을 34.2%에서35.9%로 늘리며 확고한 1위 자리를 굳혔다. 반면 중국 시장의 선두주자인 미 모토로라의 경우 사스 파동으로 매출량이 4% 줄었으며, 이에 따라 점유율이 17%에서 14.6%로 낮아졌다. 한국의 삼성전자는 16.1%로 평균을 웃도는 신장률을 보이며, 시장점유율 9.9%로3위 를 유지했다. 또 LG전자는 41.3%의 신장률을 기록했으나 점유율에서는 3.8%로 6위에 머물렀다. 독일 지멘스의 경우 매출이 2% 감소했으나 점유율 7%로 4위를 유지했으며, 신장률 17.8%의 소니에릭슨은 점유율 5.5%로 5위를 차지했다. 이밖에 전체 시장의 13.4%를 차지하는 군소업체들의 매출이 13.4% 성장했다. 2.4분기에 세계 이동전화 시장은 서유럽과 북미 등 선진국 시장에선 구형 제품을 컬러화면과 멀티미디어 기능을 갖춘 신제품으로 대체하는 수요가, 아프리카와 동구 일부 및 중국에서 신규 구매 증가가 각각 성장의 원동력이 됐다. ',\n",
              "  1],\n",
              " [' 반도체주 등 기술주들이 사흘째 혼조세를 보이며 조정을 받고 있다. 4일 오전 9시5분 현재 삼성전자는 전날보다 500원 내린 43만2천원을 기록 중이다. 미래산업, 하이닉스, 아남반도체, 신성이엔지 등거래소 반도체주들은 삼성전자와 달리 강세를 나타냈다. 중저가 기술주 가운데 LG전자가 소폭 하락해 최근 강세 분위기에서 이탈하는 조짐을 보이고 있고 삼성SDI와 삼성전기는 강보합권을 유지했다. 미국증시가 강보합권을 유지하고 외국인들도 여전히 매수기조를 유지하고는 있지만 기술주들의 상승모멘텀을 이끌기엔 역부족이다. 지난 새벽 다우 지수는 45.19포인트 오른 9,568.46에 거래를 마감했고나스닥지수는 11.42포인트 상승한 1,852.90에 장을 마쳤다. 이 시간 현재 외국인투자자들은 전기전자업종에 대해 60억원의 순매수를 기록해나흘째 매수우위를 이어갔다. 코스닥시장의 반도체주들은 강보합권을 유지했다. 테크노세미켐, 아큐텍반도체, 주성엔지니어링 등 대부분종목들이 강보합권을 유지했고 파이컴과 동진쎄미켐 등도 보합권에 거래됐다. LCD 관련주들 중 파인디앤씨, 태산엘시디, 우영 등은 강세를 나타낸 반면 오성엘에스티에 약보합세를 나타냈다. ',\n",
              "  1],\n",
              " [\" 추석연휴 후 첫 거래일인 15일 오전 외국인이삼성전자를 중심으로 17일만에 순매도 전환되면서 지수의 조정흐름이 이어질것이라는 우려가 점증하고 있다. 외국인은 이날 오전 10시56분 현재 889억원의 매도우위를 보여 지난달 18일 이후 17거래일만에 순매도로 돌아섰다. 지난 3월 이후 5개월 연속 이어진 월봉상 양봉출현속에서 최대 매수주체인 외국인의 순매도 전환은 국내수급 주체의 매기가 이어지고 있지는 않는 상황에서 지수의조정폭을 깊게 할 가능성이 크다. 특히 지난 추석 연휴 기간 중 주요산업 시설을 강타한 태풍 '매미'로 인해 올경제성장률의 하향조정 가능성이 증폭되고 있어 내수위축으로 몸을 움츠린 국내 수급주체의 시장참여 시점은 더욱 늦춰질 수밖에 없을 것으로 보인다. LG투자증권 강현철 연구원은 지난 추석연휴 기간중 나온 미국의 경제지표가 고용의 회복없는 성장에 대한 우려감을 확인해줬다 면서 일부 소비관련 종목들의 매출감소 또한 기업실적을 둘러싼 장밋빛 전망에 경종을 울리고 있다 고 평가했다. 강 연구원은 그러나 미국을 포함한 글로벌 증시가 1% 안팎의 내림세를 타면서이에 연동된 숨고르기 매물 정도로 해석된다 면서 기존 상승추세의 훼손을 논하기에는 시기상조 라고 분석했다. 굿모닝신한증권 김학균 연구원도 연휴기간 동안 필라델피아반도체지수가 약 4%정도의 낙폭을 보인 것이 오늘 삼성전자에 대한 외국인 매물로 이어지고 있다 면서 대만시장 또한 지난주말 외국인이 23거래일만에 순매도로 돌아서 아태 시장 전반에 대한 외국인의 매수열기가 식어가고 있다 고 설명했다. 김 연구원은 이어 오라클의 실적이 기대수준에 미치지 못한 것으로 발표되는등 미국시장은 고용없는 생산성 향상에 우려를 표시하고 있다 면서 오늘 중 지수는연휴기간 동안 미국시장의 하락 정도를 반영, 약 10포인트 가량의 낙폭을 보일 가능성이 크다 고 덧붙였다. \",\n",
              "  1]]"
            ]
          },
          "metadata": {
            "tags": []
          },
          "execution_count": 97
        }
      ]
    },
    {
      "cell_type": "markdown",
      "metadata": {
        "id": "t7K-e703qmYe"
      },
      "source": [
        "## **모델, Vocab 다운로드**"
      ]
    },
    {
      "cell_type": "code",
      "metadata": {
        "id": "oCyfeDYxX-Ex"
      },
      "source": [
        "ctx= 'cuda'\n",
        "cachedir='~/kogpt2/'\n",
        "pytorch_kobert = {\n",
        "    'url': 'https://kobert.blob.core.windows.net/models/kobert/pytorch/pytorch_kobert_2439f391a6.params',\n",
        "    'fname': 'pytorch_kobert_2439f391a6.params',\n",
        "    'chksum': '2439f391a6'\n",
        "}\n",
        "\n",
        "bert_config = {\n",
        "    'attention_probs_dropout_prob': 0.1,\n",
        "    'hidden_act': 'gelu',\n",
        "    'hidden_dropout_prob': 0.1,\n",
        "    'hidden_size': 768,\n",
        "    'initializer_range': 0.02,\n",
        "    'intermediate_size': 3072,\n",
        "    'max_position_embeddings': 512,\n",
        "    'num_attention_heads': 12,\n",
        "    'num_hidden_layers': 12,\n",
        "    'type_vocab_size': 2,\n",
        "    'vocab_size': 8002\n",
        "}"
      ],
      "execution_count": 60,
      "outputs": []
    },
    {
      "cell_type": "code",
      "metadata": {
        "id": "X1Ve5qwwX_M1",
        "outputId": "301b4c6f-1803-4432-d53c-6c0fbacbc221",
        "colab": {
          "base_uri": "https://localhost:8080/",
          "height": 52
        }
      },
      "source": [
        "# download model\n",
        "model_info = pytorch_kobert\n",
        "model_path = download(model_info['url'],\n",
        "                      model_info['fname'],\n",
        "                      model_info['chksum'],\n",
        "                      cachedir=cachedir)\n",
        "# download vocab\n",
        "vocab_info = tokenizer\n",
        "vocab_path = download(vocab_info['url'],\n",
        "                      vocab_info['fname'],\n",
        "                      vocab_info['chksum'],\n",
        "                      cachedir=cachedir)"
      ],
      "execution_count": 67,
      "outputs": [
        {
          "output_type": "stream",
          "text": [
            "using cached model\n",
            "[██████████████████████████████████████████████████]\n"
          ],
          "name": "stdout"
        }
      ]
    },
    {
      "cell_type": "code",
      "metadata": {
        "id": "VF_FP8hKqkO8",
        "tags": []
      },
      "source": [
        "bertmodel = BertModel(config=BertConfig.from_dict(bert_config))\n",
        "bertmodel.state_dict(torch.load(model_path))\n",
        "\n",
        "# bertmodel.to(device)\n",
        "# bertmodel.train()\n",
        "vocab = nlp.vocab.BERTVocab.from_sentencepiece(vocab_path,\n",
        "                                               padding_token='[PAD]')"
      ],
      "execution_count": 73,
      "outputs": []
    },
    {
      "cell_type": "code",
      "metadata": {
        "id": "qo1zrFkvqul-",
        "tags": [],
        "outputId": "f139df26-b91f-4f17-83cd-800dc163874c",
        "colab": {
          "base_uri": "https://localhost:8080/",
          "height": 34
        }
      },
      "source": [
        "tokenizer = get_tokenizer()\n",
        "tok = nlp.data.BERTSPTokenizer(tokenizer, vocab, lower=False)"
      ],
      "execution_count": 74,
      "outputs": [
        {
          "output_type": "stream",
          "text": [
            "using cached model\n"
          ],
          "name": "stdout"
        }
      ]
    },
    {
      "cell_type": "markdown",
      "metadata": {
        "id": "MQA64fUUeNnO"
      },
      "source": [
        "## **DataSet 형태 설정**"
      ]
    },
    {
      "cell_type": "code",
      "metadata": {
        "id": "eol3wYgBqu0V"
      },
      "source": [
        "class BERTDataset(Dataset):\n",
        "    def __init__(self, dataset, sent_idx, label_idx, bert_tokenizer, max_len,\n",
        "                 pad, pair):\n",
        "        transform = nlp.data.BERTSentenceTransform(\n",
        "            bert_tokenizer, max_seq_length=max_len, pad=pad, pair=pair)\n",
        "\n",
        "        self.sentences = [transform([i[sent_idx]]) for i in dataset]\n",
        "        self.labels = [np.int32(i[label_idx]) for i in dataset]\n",
        "\n",
        "    def __getitem__(self, i):\n",
        "        return (self.sentences[i] + (self.labels[i], ))\n",
        "\n",
        "    def __len__(self):\n",
        "        return (len(self.labels))"
      ],
      "execution_count": 75,
      "outputs": []
    },
    {
      "cell_type": "code",
      "metadata": {
        "id": "F4gfqqCfqwSC"
      },
      "source": [
        "# 파라미터 세팅\n",
        "max_len = 64\n",
        "batch_size = 64\n",
        "warmup_ratio = 0.1\n",
        "num_epochs = 1\n",
        "max_grad_norm = 1\n",
        "log_interval = 200\n",
        "learning_rate =  5e-5"
      ],
      "execution_count": 95,
      "outputs": []
    },
    {
      "cell_type": "code",
      "metadata": {
        "id": "jR9vAi4Iq1pc"
      },
      "source": [
        "data_train = BERTDataset(dataset_train, 0, 1, tok, max_len, True, False)\n",
        "data_test = BERTDataset(dataset_test, 0, 1, tok, max_len, True, False)"
      ],
      "execution_count": 77,
      "outputs": []
    },
    {
      "cell_type": "code",
      "metadata": {
        "id": "3_u6kfBjq2Rw"
      },
      "source": [
        "train_dataloader = torch.utils.data.DataLoader(data_train, batch_size=batch_size, num_workers=5)\n",
        "test_dataloader = torch.utils.data.DataLoader(data_test, batch_size=batch_size, num_workers=5)"
      ],
      "execution_count": 78,
      "outputs": []
    },
    {
      "cell_type": "markdown",
      "metadata": {
        "id": "BYGu4Pwoq42j"
      },
      "source": [
        "## **모델링**"
      ]
    },
    {
      "cell_type": "code",
      "metadata": {
        "id": "jbH9U97Cq4cO"
      },
      "source": [
        "class BERTClassifier(nn.Module):\n",
        "    def __init__(self,\n",
        "                 bert,\n",
        "                 hidden_size = 768,\n",
        "                 num_classes=2, # 해당 부분 파라미터 조정으로 다중 분류 가능\n",
        "                 dr_rate=None,\n",
        "                 params=None):\n",
        "        super(BERTClassifier, self).__init__()\n",
        "        self.bert = bert\n",
        "        self.dr_rate = dr_rate\n",
        "                 \n",
        "        self.classifier = nn.Linear(hidden_size , num_classes)\n",
        "        if dr_rate:\n",
        "            self.dropout = nn.Dropout(p=dr_rate)\n",
        "    \n",
        "    def gen_attention_mask(self, token_ids, valid_length):\n",
        "        attention_mask = torch.zeros_like(token_ids)\n",
        "        for i, v in enumerate(valid_length):\n",
        "            attention_mask[i][:v] = 1\n",
        "        return attention_mask.float()\n",
        "\n",
        "    def forward(self, token_ids, valid_length, segment_ids):\n",
        "        attention_mask = self.gen_attention_mask(token_ids, valid_length)\n",
        "        \n",
        "        _, pooler = self.bert(input_ids = token_ids, token_type_ids = segment_ids.long(), attention_mask = attention_mask.float().to(token_ids.device))\n",
        "        if self.dr_rate:\n",
        "            out = self.dropout(pooler)\n",
        "        return self.classifier(out)"
      ],
      "execution_count": 79,
      "outputs": []
    },
    {
      "cell_type": "code",
      "metadata": {
        "id": "0hzKl-wwq-TF"
      },
      "source": [
        "model = BERTClassifier(bertmodel,  dr_rate=0.5).to(device)"
      ],
      "execution_count": 80,
      "outputs": []
    },
    {
      "cell_type": "code",
      "metadata": {
        "id": "UsK3WOz1q_wF"
      },
      "source": [
        "# Prepare optimizer and schedule (linear warmup and decay)\n",
        "no_decay = ['bias', 'LayerNorm.weight']\n",
        "optimizer_grouped_parameters = [\n",
        "    {'params': [p for n, p in model.named_parameters() if not any(nd in n for nd in no_decay)], 'weight_decay': 0.01},\n",
        "    {'params': [p for n, p in model.named_parameters() if any(nd in n for nd in no_decay)], 'weight_decay': 0.0}\n",
        "]"
      ],
      "execution_count": 81,
      "outputs": []
    },
    {
      "cell_type": "code",
      "metadata": {
        "id": "EWvxDswmrA7e"
      },
      "source": [
        "optimizer = AdamW(optimizer_grouped_parameters, lr=learning_rate)\n",
        "loss_fn = nn.CrossEntropyLoss()"
      ],
      "execution_count": 82,
      "outputs": []
    },
    {
      "cell_type": "code",
      "metadata": {
        "id": "YjcCf5RYrCUL"
      },
      "source": [
        "t_total = len(train_dataloader) * num_epochs\n",
        "warmup_step = int(t_total * warmup_ratio)"
      ],
      "execution_count": 83,
      "outputs": []
    },
    {
      "cell_type": "code",
      "metadata": {
        "id": "y7amz9K9rDix"
      },
      "source": [
        "scheduler = get_linear_schedule_with_warmup(optimizer, \n",
        "                                            num_warmup_steps=warmup_step,\n",
        "                                            num_training_steps =t_total) # Warm-Up Step 추가"
      ],
      "execution_count": 88,
      "outputs": []
    },
    {
      "cell_type": "code",
      "metadata": {
        "id": "tAUHxhxUrE5D"
      },
      "source": [
        "def calc_accuracy(X,Y): # 정확도 계산 함수\n",
        "    max_vals, max_indices = torch.max(X, 1)\n",
        "    train_acc = (max_indices == Y).sum().data.cpu().numpy()/max_indices.size()[0]\n",
        "    return train_acc"
      ],
      "execution_count": 89,
      "outputs": []
    },
    {
      "cell_type": "code",
      "metadata": {
        "id": "-bBQdB43e12Y"
      },
      "source": [
        "save_path = '/content/drive/My Drive/머신러닝/팀 프로젝트/06. AI를 이용한 금융 보고서/Data_Analysis/checkpoint/'"
      ],
      "execution_count": 91,
      "outputs": []
    },
    {
      "cell_type": "markdown",
      "metadata": {
        "id": "5EKdgAmKrHPD"
      },
      "source": [
        "## **모델 학습**"
      ]
    },
    {
      "cell_type": "code",
      "metadata": {
        "id": "dR1T-8W3re5J",
        "tags": [],
        "outputId": "c7f5e4bf-f015-4062-86fb-318ab19cd154",
        "colab": {
          "base_uri": "https://localhost:8080/",
          "height": 277,
          "referenced_widgets": [
            "deed31dae31a482284b3c24e5b6afbde",
            "10be4ccc5ecc4683bc9a234e2462de15",
            "65cba04ec6634a9885f517b7e45d4b3f",
            "bcc3101e4cae4dde839b745770c9077f",
            "3d3dd7afda294971849332c2389caabb",
            "1fc5ba2867044e7abe4abfc182006268",
            "6033a380d1b24836806daf0a31710735",
            "8ddd135ca04e4cd1b472303ca6baf84e",
            "66e28c540a2d448694b9ee70ca449d6b",
            "bf395a11112743b5a607938a73d7f874",
            "69e6b9c4902f441180b1966ad69434d8",
            "c4ce5094e0b547b290896cf0cecdd7a5",
            "b58c3035ad074eaab901861b2b469d7e",
            "3998e81c3eff41afaca0faaaa4e57934",
            "35c964108ace4319b49c03f239aae7ac",
            "c737112735f942c38d0d28a87f954cc5"
          ]
        }
      },
      "source": [
        "for e in range(num_epochs):\n",
        "    train_acc = 0.0\n",
        "    test_acc = 0.0\n",
        "    # 모델 학습 : model.train()을 지정해줘야 Fine Tunning이 이뤄짐\n",
        "    model.train()\n",
        "    for batch_id, (token_ids, valid_length, segment_ids, label) in enumerate(tqdm_notebook(train_dataloader)):\n",
        "        optimizer.zero_grad()\n",
        "        token_ids = token_ids.long().to(device)\n",
        "        segment_ids = segment_ids.long().to(device)\n",
        "        valid_length= valid_length\n",
        "        label = label.long().to(device)\n",
        "        out = model(token_ids, valid_length, segment_ids)\n",
        "        loss = loss_fn(out, label)\n",
        "        loss.backward()\n",
        "        torch.nn.utils.clip_grad_norm_(model.parameters(), max_grad_norm)\n",
        "        optimizer.step()\n",
        "        scheduler.step()  # Update learning rate schedule\n",
        "        train_acc += calc_accuracy(out, label)\n",
        "        if batch_id % log_interval == 0:\n",
        "            print(\"epoch {} batch id {} loss {} train acc {}\".format(e+1, batch_id+1, loss.data.cpu().numpy(), train_acc / (batch_id+1)))\n",
        "    print(\"epoch {} train acc {}\".format(e+1, train_acc / (batch_id+1)))\n",
        "    # 모델 평가 : model.eval()을 지정해야 Fine Tunning을 멈추고 평가를 시작함\n",
        "    model.eval()\n",
        "    for batch_id, (token_ids, valid_length, segment_ids, label) in enumerate(tqdm_notebook(test_dataloader)):\n",
        "        token_ids = token_ids.long().to(device)\n",
        "        segment_ids = segment_ids.long().to(device)\n",
        "        valid_length= valid_length\n",
        "        label = label.long().to(device)\n",
        "        out = model(token_ids, valid_length, segment_ids)\n",
        "        test_acc += calc_accuracy(out, label)\n",
        "    print(\"epoch {} test acc {}\".format(e+1, test_acc / (batch_id+1)))\n",
        "    # 에폭마다 체크포인트 저장\n",
        "    torch.save({\n",
        "                'model_state_dict': model.state_dict(),\n",
        "                'optimizer_state_dict': optimizer.state_dict(),\n",
        "                'loss' : loss.data.cpu().numpy()\n",
        "                }, save_path+'Classification_KoBERT_checkpoint{}.tar'.format(num_epochs))"
      ],
      "execution_count": 96,
      "outputs": [
        {
          "output_type": "stream",
          "text": [
            "/usr/local/lib/python3.6/dist-packages/ipykernel_launcher.py:6: TqdmDeprecationWarning: This function will be removed in tqdm==5.0.0\n",
            "Please use `tqdm.notebook.tqdm` instead of `tqdm.tqdm_notebook`\n",
            "  \n"
          ],
          "name": "stderr"
        },
        {
          "output_type": "display_data",
          "data": {
            "application/vnd.jupyter.widget-view+json": {
              "model_id": "deed31dae31a482284b3c24e5b6afbde",
              "version_minor": 0,
              "version_major": 2
            },
            "text/plain": [
              "HBox(children=(FloatProgress(value=0.0, max=145.0), HTML(value='')))"
            ]
          },
          "metadata": {
            "tags": []
          }
        },
        {
          "output_type": "stream",
          "text": [
            "epoch 1 batch id 1 loss 0.6917639374732971 train acc 0.515625\n",
            "\n",
            "epoch 1 train acc 0.5013271324863884\n"
          ],
          "name": "stdout"
        },
        {
          "output_type": "stream",
          "text": [
            "/usr/local/lib/python3.6/dist-packages/ipykernel_launcher.py:24: TqdmDeprecationWarning: This function will be removed in tqdm==5.0.0\n",
            "Please use `tqdm.notebook.tqdm` instead of `tqdm.tqdm_notebook`\n"
          ],
          "name": "stderr"
        },
        {
          "output_type": "display_data",
          "data": {
            "application/vnd.jupyter.widget-view+json": {
              "model_id": "66e28c540a2d448694b9ee70ca449d6b",
              "version_minor": 0,
              "version_major": 2
            },
            "text/plain": [
              "HBox(children=(FloatProgress(value=0.0, max=37.0), HTML(value='')))"
            ]
          },
          "metadata": {
            "tags": []
          }
        },
        {
          "output_type": "stream",
          "text": [
            "\n",
            "epoch 1 test acc 0.512058933933934\n"
          ],
          "name": "stdout"
        }
      ]
    }
  ]
}